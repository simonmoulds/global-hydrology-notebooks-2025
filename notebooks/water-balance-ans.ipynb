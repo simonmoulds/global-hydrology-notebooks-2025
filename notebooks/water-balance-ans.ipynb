{
 "cells": [
  {
   "cell_type": "markdown",
   "metadata": {},
   "source": [
    " # Applying the water balance equation\n",
    "\n",
    "\n",
    "\n",
    " ## Objectives\n",
    "\n",
    " - Apply the water balance equation to real-world data\n",
    "\n",
    " - Test the impact of land cover on the runoff ratio\n",
    "\n",
    " - Fit a simple statistical model to data\n",
    "\n",
    "\n",
    "\n",
    " ## Prerequisites:\n",
    "\n",
    " - Basic understanding of Python\n",
    "\n",
    " - Familiarity with Pandas, Matplotlib"
   ]
  },
  {
   "cell_type": "markdown",
   "metadata": {},
   "source": [
    " ## Dataset\n",
    "\n",
    " We will be using the CAMELS-GB dataset. This contains daily hydrometeorological data for around 670 catchments in Great Britain, as well as catchment attributes related to land use/land cover, geology, and climate. Download the data [here](https://catalogue.ceh.ac.uk/documents/8344e4f3-d2ea-44f5-8afa-86d2987543a9), then upload it to the (currently) empty `data` folder in this repository. Now extract the data archive: "
   ]
  },
  {
   "cell_type": "code",
   "execution_count": 1,
   "metadata": {},
   "outputs": [],
   "source": [
    "import os\n",
    "import zipfile\n",
    "\n",
    "zip_path = 'data/8344e4f3-d2ea-44f5-8afa-86d2987543a9.zip'\n",
    "extract_dir = 'data/8344e4f3-d2ea-44f5-8afa-86d2987543a9'\n",
    "\n",
    "if not os.path.isdir(extract_dir):\n",
    "    try:\n",
    "        with zipfile.ZipFile(zip_path, 'r') as archive:\n",
    "            archive.extractall('data')\n",
    "    except FileNotFoundError:\n",
    "        print(f\"Zip file {zip_path} not found.\")\n",
    "    except zipfile.BadZipFile:\n",
    "        print(f\"Zip file {zip_path} is corrupt.\")"
   ]
  },
  {
   "cell_type": "markdown",
   "metadata": {},
   "source": [
    "Let's create a path variable so that we can easily navigate to the data files:"
   ]
  },
  {
   "cell_type": "code",
   "execution_count": 2,
   "metadata": {},
   "outputs": [],
   "source": [
    "import os\n",
    "DATADIR = os.path.join('data', '8344e4f3-d2ea-44f5-8afa-86d2987543a9', 'data')\n"
   ]
  },
  {
   "cell_type": "markdown",
   "metadata": {},
   "source": [
    " Now Load the data for a catchment chosen at random. The timeseries data are stored as csv files, so we use Pandas to load them into a Pandas DataFrame object:"
   ]
  },
  {
   "cell_type": "code",
   "execution_count": 3,
   "metadata": {},
   "outputs": [
    {
     "data": {
      "text/html": [
       "<div>\n",
       "<style scoped>\n",
       "    .dataframe tbody tr th:only-of-type {\n",
       "        vertical-align: middle;\n",
       "    }\n",
       "\n",
       "    .dataframe tbody tr th {\n",
       "        vertical-align: top;\n",
       "    }\n",
       "\n",
       "    .dataframe thead th {\n",
       "        text-align: right;\n",
       "    }\n",
       "</style>\n",
       "<table border=\"1\" class=\"dataframe\">\n",
       "  <thead>\n",
       "    <tr style=\"text-align: right;\">\n",
       "      <th></th>\n",
       "      <th>date</th>\n",
       "      <th>precipitation</th>\n",
       "      <th>pet</th>\n",
       "      <th>temperature</th>\n",
       "      <th>discharge_spec</th>\n",
       "      <th>discharge_vol</th>\n",
       "      <th>peti</th>\n",
       "      <th>humidity</th>\n",
       "      <th>shortwave_rad</th>\n",
       "      <th>longwave_rad</th>\n",
       "      <th>windspeed</th>\n",
       "    </tr>\n",
       "  </thead>\n",
       "  <tbody>\n",
       "    <tr>\n",
       "      <th>0</th>\n",
       "      <td>1970-10-01</td>\n",
       "      <td>9.93</td>\n",
       "      <td>1.02</td>\n",
       "      <td>8.91</td>\n",
       "      <td>NaN</td>\n",
       "      <td>NaN</td>\n",
       "      <td>1.31</td>\n",
       "      <td>6.01</td>\n",
       "      <td>61.76</td>\n",
       "      <td>325.33</td>\n",
       "      <td>7.65</td>\n",
       "    </tr>\n",
       "    <tr>\n",
       "      <th>1</th>\n",
       "      <td>1970-10-02</td>\n",
       "      <td>4.01</td>\n",
       "      <td>1.41</td>\n",
       "      <td>7.66</td>\n",
       "      <td>NaN</td>\n",
       "      <td>NaN</td>\n",
       "      <td>1.76</td>\n",
       "      <td>5.11</td>\n",
       "      <td>93.56</td>\n",
       "      <td>294.20</td>\n",
       "      <td>10.03</td>\n",
       "    </tr>\n",
       "    <tr>\n",
       "      <th>2</th>\n",
       "      <td>1970-10-03</td>\n",
       "      <td>7.27</td>\n",
       "      <td>1.17</td>\n",
       "      <td>8.77</td>\n",
       "      <td>NaN</td>\n",
       "      <td>NaN</td>\n",
       "      <td>1.40</td>\n",
       "      <td>5.41</td>\n",
       "      <td>61.95</td>\n",
       "      <td>321.14</td>\n",
       "      <td>5.41</td>\n",
       "    </tr>\n",
       "    <tr>\n",
       "      <th>3</th>\n",
       "      <td>1970-10-04</td>\n",
       "      <td>3.77</td>\n",
       "      <td>0.06</td>\n",
       "      <td>9.74</td>\n",
       "      <td>NaN</td>\n",
       "      <td>NaN</td>\n",
       "      <td>0.23</td>\n",
       "      <td>7.76</td>\n",
       "      <td>42.83</td>\n",
       "      <td>341.28</td>\n",
       "      <td>7.27</td>\n",
       "    </tr>\n",
       "    <tr>\n",
       "      <th>4</th>\n",
       "      <td>1970-10-05</td>\n",
       "      <td>1.19</td>\n",
       "      <td>1.56</td>\n",
       "      <td>9.46</td>\n",
       "      <td>NaN</td>\n",
       "      <td>NaN</td>\n",
       "      <td>1.86</td>\n",
       "      <td>5.49</td>\n",
       "      <td>92.13</td>\n",
       "      <td>299.08</td>\n",
       "      <td>7.90</td>\n",
       "    </tr>\n",
       "  </tbody>\n",
       "</table>\n",
       "</div>"
      ],
      "text/plain": [
       "        date  precipitation   pet  temperature  discharge_spec  discharge_vol  \\\n",
       "0 1970-10-01           9.93  1.02         8.91             NaN            NaN   \n",
       "1 1970-10-02           4.01  1.41         7.66             NaN            NaN   \n",
       "2 1970-10-03           7.27  1.17         8.77             NaN            NaN   \n",
       "3 1970-10-04           3.77  0.06         9.74             NaN            NaN   \n",
       "4 1970-10-05           1.19  1.56         9.46             NaN            NaN   \n",
       "\n",
       "   peti  humidity  shortwave_rad  longwave_rad  windspeed  \n",
       "0  1.31      6.01          61.76        325.33       7.65  \n",
       "1  1.76      5.11          93.56        294.20      10.03  \n",
       "2  1.40      5.41          61.95        321.14       5.41  \n",
       "3  0.23      7.76          42.83        341.28       7.27  \n",
       "4  1.86      5.49          92.13        299.08       7.90  "
      ]
     },
     "execution_count": 3,
     "metadata": {},
     "output_type": "execute_result"
    }
   ],
   "source": [
    "import pandas as pd\n",
    "id = '97002'\n",
    "data = pd.read_csv(os.path.join(DATADIR, 'timeseries', f'CAMELS_GB_hydromet_timeseries_{id}_19701001-20150930.csv'), parse_dates=[0])\n",
    "data.head()\n"
   ]
  },
  {
   "cell_type": "markdown",
   "metadata": {},
   "source": [
    " Later on it will be useful to have the catchment ID in the dataframe, so we add it here:"
   ]
  },
  {
   "cell_type": "code",
   "execution_count": 4,
   "metadata": {},
   "outputs": [],
   "source": [
    "data['id'] = id\n"
   ]
  },
  {
   "cell_type": "markdown",
   "metadata": {},
   "source": [
    "We can also see that the `discharge_vol` column contains `NaN` values - these usually indicate missing data. There are various things we can do to handle (or impute) missing values, but for now let's just remove them: "
   ]
  },
  {
   "cell_type": "code",
   "execution_count": 5,
   "metadata": {},
   "outputs": [
    {
     "data": {
      "text/html": [
       "<div>\n",
       "<style scoped>\n",
       "    .dataframe tbody tr th:only-of-type {\n",
       "        vertical-align: middle;\n",
       "    }\n",
       "\n",
       "    .dataframe tbody tr th {\n",
       "        vertical-align: top;\n",
       "    }\n",
       "\n",
       "    .dataframe thead th {\n",
       "        text-align: right;\n",
       "    }\n",
       "</style>\n",
       "<table border=\"1\" class=\"dataframe\">\n",
       "  <thead>\n",
       "    <tr style=\"text-align: right;\">\n",
       "      <th></th>\n",
       "      <th>date</th>\n",
       "      <th>precipitation</th>\n",
       "      <th>pet</th>\n",
       "      <th>temperature</th>\n",
       "      <th>discharge_spec</th>\n",
       "      <th>discharge_vol</th>\n",
       "      <th>peti</th>\n",
       "      <th>humidity</th>\n",
       "      <th>shortwave_rad</th>\n",
       "      <th>longwave_rad</th>\n",
       "      <th>windspeed</th>\n",
       "      <th>id</th>\n",
       "    </tr>\n",
       "  </thead>\n",
       "  <tbody>\n",
       "    <tr>\n",
       "      <th>457</th>\n",
       "      <td>1972-01-01</td>\n",
       "      <td>0.00</td>\n",
       "      <td>0.21</td>\n",
       "      <td>3.92</td>\n",
       "      <td>1.12</td>\n",
       "      <td>5.37</td>\n",
       "      <td>0.21</td>\n",
       "      <td>4.20</td>\n",
       "      <td>15.49</td>\n",
       "      <td>284.96</td>\n",
       "      <td>4.77</td>\n",
       "      <td>97002</td>\n",
       "    </tr>\n",
       "    <tr>\n",
       "      <th>458</th>\n",
       "      <td>1972-01-02</td>\n",
       "      <td>0.84</td>\n",
       "      <td>0.20</td>\n",
       "      <td>3.66</td>\n",
       "      <td>1.05</td>\n",
       "      <td>5.03</td>\n",
       "      <td>0.32</td>\n",
       "      <td>4.53</td>\n",
       "      <td>8.64</td>\n",
       "      <td>311.41</td>\n",
       "      <td>5.63</td>\n",
       "      <td>97002</td>\n",
       "    </tr>\n",
       "    <tr>\n",
       "      <th>459</th>\n",
       "      <td>1972-01-03</td>\n",
       "      <td>2.09</td>\n",
       "      <td>0.31</td>\n",
       "      <td>3.69</td>\n",
       "      <td>1.08</td>\n",
       "      <td>5.20</td>\n",
       "      <td>0.44</td>\n",
       "      <td>4.25</td>\n",
       "      <td>8.75</td>\n",
       "      <td>310.61</td>\n",
       "      <td>4.49</td>\n",
       "      <td>97002</td>\n",
       "    </tr>\n",
       "    <tr>\n",
       "      <th>460</th>\n",
       "      <td>1972-01-04</td>\n",
       "      <td>1.38</td>\n",
       "      <td>0.01</td>\n",
       "      <td>3.09</td>\n",
       "      <td>1.19</td>\n",
       "      <td>5.73</td>\n",
       "      <td>0.01</td>\n",
       "      <td>4.34</td>\n",
       "      <td>5.78</td>\n",
       "      <td>308.46</td>\n",
       "      <td>2.29</td>\n",
       "      <td>97002</td>\n",
       "    </tr>\n",
       "    <tr>\n",
       "      <th>461</th>\n",
       "      <td>1972-01-05</td>\n",
       "      <td>0.47</td>\n",
       "      <td>0.02</td>\n",
       "      <td>2.61</td>\n",
       "      <td>1.12</td>\n",
       "      <td>5.37</td>\n",
       "      <td>0.03</td>\n",
       "      <td>4.03</td>\n",
       "      <td>9.34</td>\n",
       "      <td>304.41</td>\n",
       "      <td>1.72</td>\n",
       "      <td>97002</td>\n",
       "    </tr>\n",
       "  </tbody>\n",
       "</table>\n",
       "</div>"
      ],
      "text/plain": [
       "          date  precipitation   pet  temperature  discharge_spec  \\\n",
       "457 1972-01-01           0.00  0.21         3.92            1.12   \n",
       "458 1972-01-02           0.84  0.20         3.66            1.05   \n",
       "459 1972-01-03           2.09  0.31         3.69            1.08   \n",
       "460 1972-01-04           1.38  0.01         3.09            1.19   \n",
       "461 1972-01-05           0.47  0.02         2.61            1.12   \n",
       "\n",
       "     discharge_vol  peti  humidity  shortwave_rad  longwave_rad  windspeed  \\\n",
       "457           5.37  0.21      4.20          15.49        284.96       4.77   \n",
       "458           5.03  0.32      4.53           8.64        311.41       5.63   \n",
       "459           5.20  0.44      4.25           8.75        310.61       4.49   \n",
       "460           5.73  0.01      4.34           5.78        308.46       2.29   \n",
       "461           5.37  0.03      4.03           9.34        304.41       1.72   \n",
       "\n",
       "        id  \n",
       "457  97002  \n",
       "458  97002  \n",
       "459  97002  \n",
       "460  97002  \n",
       "461  97002  "
      ]
     },
     "execution_count": 5,
     "metadata": {},
     "output_type": "execute_result"
    }
   ],
   "source": [
    "data = data.dropna(subset=['discharge_vol'])\n",
    "data.head()"
   ]
  },
  {
   "cell_type": "markdown",
   "metadata": {},
   "source": [
    " Recall the water balance equation from lecture 1:\n",
    "\n",
    " $\\frac{dS}{dt} = P - E - Q$\n",
    "\n",
    " where $\\frac{dS}{dt}$ is the change in storage over time, $P$ is precipitation, $E$ is evaporation and $Q$ is streamflow. Also recall that over long time periods we can assume the storage term tends towards zero. Now we can write:\n",
    "\n",
    " $0 = P - E - Q$\n",
    "\n",
    " and hence:\n",
    "\n",
    " $E = P - Q.$\n",
    "\n",
    " This is convenient because evaporation is hard to measure accurately. Let's use the equation above to estimate the catchment-averaged evaporation. We will work at annual timescales so that we can reasonably assume that the storage term is negligible. First we need to compute the annual precipitation and discharge. To do this we typically use the \"water year\" instead of the calendar year. This avoids the potential for large errors in the water balance because catchment storage can vary significantly during the wet season. In the UK the water year is taken as 1st October to 30th September. Fortunately Pandas has some magic that allows us to easily aggregate by water year:"
   ]
  },
  {
   "cell_type": "code",
   "execution_count": 6,
   "metadata": {},
   "outputs": [
    {
     "data": {
      "text/html": [
       "<div>\n",
       "<style scoped>\n",
       "    .dataframe tbody tr th:only-of-type {\n",
       "        vertical-align: middle;\n",
       "    }\n",
       "\n",
       "    .dataframe tbody tr th {\n",
       "        vertical-align: top;\n",
       "    }\n",
       "\n",
       "    .dataframe thead th {\n",
       "        text-align: right;\n",
       "    }\n",
       "</style>\n",
       "<table border=\"1\" class=\"dataframe\">\n",
       "  <thead>\n",
       "    <tr style=\"text-align: right;\">\n",
       "      <th></th>\n",
       "      <th>date</th>\n",
       "      <th>precipitation</th>\n",
       "      <th>pet</th>\n",
       "      <th>temperature</th>\n",
       "      <th>discharge_spec</th>\n",
       "      <th>discharge_vol</th>\n",
       "      <th>peti</th>\n",
       "      <th>humidity</th>\n",
       "      <th>shortwave_rad</th>\n",
       "      <th>longwave_rad</th>\n",
       "      <th>windspeed</th>\n",
       "      <th>id</th>\n",
       "      <th>water_year</th>\n",
       "    </tr>\n",
       "  </thead>\n",
       "  <tbody>\n",
       "    <tr>\n",
       "      <th>457</th>\n",
       "      <td>1972-01-01</td>\n",
       "      <td>0.00</td>\n",
       "      <td>0.21</td>\n",
       "      <td>3.92</td>\n",
       "      <td>1.12</td>\n",
       "      <td>5.37</td>\n",
       "      <td>0.21</td>\n",
       "      <td>4.20</td>\n",
       "      <td>15.49</td>\n",
       "      <td>284.96</td>\n",
       "      <td>4.77</td>\n",
       "      <td>97002</td>\n",
       "      <td>1972</td>\n",
       "    </tr>\n",
       "    <tr>\n",
       "      <th>458</th>\n",
       "      <td>1972-01-02</td>\n",
       "      <td>0.84</td>\n",
       "      <td>0.20</td>\n",
       "      <td>3.66</td>\n",
       "      <td>1.05</td>\n",
       "      <td>5.03</td>\n",
       "      <td>0.32</td>\n",
       "      <td>4.53</td>\n",
       "      <td>8.64</td>\n",
       "      <td>311.41</td>\n",
       "      <td>5.63</td>\n",
       "      <td>97002</td>\n",
       "      <td>1972</td>\n",
       "    </tr>\n",
       "    <tr>\n",
       "      <th>459</th>\n",
       "      <td>1972-01-03</td>\n",
       "      <td>2.09</td>\n",
       "      <td>0.31</td>\n",
       "      <td>3.69</td>\n",
       "      <td>1.08</td>\n",
       "      <td>5.20</td>\n",
       "      <td>0.44</td>\n",
       "      <td>4.25</td>\n",
       "      <td>8.75</td>\n",
       "      <td>310.61</td>\n",
       "      <td>4.49</td>\n",
       "      <td>97002</td>\n",
       "      <td>1972</td>\n",
       "    </tr>\n",
       "    <tr>\n",
       "      <th>460</th>\n",
       "      <td>1972-01-04</td>\n",
       "      <td>1.38</td>\n",
       "      <td>0.01</td>\n",
       "      <td>3.09</td>\n",
       "      <td>1.19</td>\n",
       "      <td>5.73</td>\n",
       "      <td>0.01</td>\n",
       "      <td>4.34</td>\n",
       "      <td>5.78</td>\n",
       "      <td>308.46</td>\n",
       "      <td>2.29</td>\n",
       "      <td>97002</td>\n",
       "      <td>1972</td>\n",
       "    </tr>\n",
       "    <tr>\n",
       "      <th>461</th>\n",
       "      <td>1972-01-05</td>\n",
       "      <td>0.47</td>\n",
       "      <td>0.02</td>\n",
       "      <td>2.61</td>\n",
       "      <td>1.12</td>\n",
       "      <td>5.37</td>\n",
       "      <td>0.03</td>\n",
       "      <td>4.03</td>\n",
       "      <td>9.34</td>\n",
       "      <td>304.41</td>\n",
       "      <td>1.72</td>\n",
       "      <td>97002</td>\n",
       "      <td>1972</td>\n",
       "    </tr>\n",
       "  </tbody>\n",
       "</table>\n",
       "</div>"
      ],
      "text/plain": [
       "          date  precipitation   pet  temperature  discharge_spec  \\\n",
       "457 1972-01-01           0.00  0.21         3.92            1.12   \n",
       "458 1972-01-02           0.84  0.20         3.66            1.05   \n",
       "459 1972-01-03           2.09  0.31         3.69            1.08   \n",
       "460 1972-01-04           1.38  0.01         3.09            1.19   \n",
       "461 1972-01-05           0.47  0.02         2.61            1.12   \n",
       "\n",
       "     discharge_vol  peti  humidity  shortwave_rad  longwave_rad  windspeed  \\\n",
       "457           5.37  0.21      4.20          15.49        284.96       4.77   \n",
       "458           5.03  0.32      4.53           8.64        311.41       5.63   \n",
       "459           5.20  0.44      4.25           8.75        310.61       4.49   \n",
       "460           5.73  0.01      4.34           5.78        308.46       2.29   \n",
       "461           5.37  0.03      4.03           9.34        304.41       1.72   \n",
       "\n",
       "        id water_year  \n",
       "457  97002       1972  \n",
       "458  97002       1972  \n",
       "459  97002       1972  \n",
       "460  97002       1972  \n",
       "461  97002       1972  "
      ]
     },
     "execution_count": 6,
     "metadata": {},
     "output_type": "execute_result"
    }
   ],
   "source": [
    "data['water_year'] = data['date'].dt.to_period('Y-SEP')\n",
    "data.head()\n"
   ]
  },
  {
   "cell_type": "markdown",
   "metadata": {},
   "source": [
    " Here, `A-SEP` is a period alias for \"annual frequency, anchored end of September\". Learn more about period aliases by consulting the [Pandas documentation](https://pandas.pydata.org/docs/user_guide/timeseries.html#timeseries-period-aliases).\n",
    "\n",
    "\n",
    "\n",
    " We also need to convert the discharge from m3/s to m3/day:"
   ]
  },
  {
   "cell_type": "markdown",
   "metadata": {},
   "source": [
    " Now we group our dataframe by the new `water_year` column, and compute the sum of precipitation and discharge:"
   ]
  },
  {
   "cell_type": "code",
   "execution_count": 7,
   "metadata": {},
   "outputs": [],
   "source": [
    "data['discharge_vol'] *= 60 * 60 * 24\n",
    "data = data.groupby(['id', 'water_year'])[['precipitation', 'pet', 'discharge_spec', 'discharge_vol']].sum().reset_index()\n"
   ]
  },
  {
   "cell_type": "markdown",
   "metadata": {},
   "source": [
    " Aggregating data is an extremely useful skill in hydrology. Think about how you might use Pandas to aggregate by month or by season.\n",
    "\n",
    "\n",
    "\n",
    " When making comparisons between catchments, it is common to transform all variables to a *depth* so that the effect of catchment area is reduced. This allows us to compare the hydrological behaviour of a large catchment (e.g. Tweed) with a much smaller catchment. Let's load the catchment attributes and find the area of our catchment."
   ]
  },
  {
   "cell_type": "code",
   "execution_count": 8,
   "metadata": {},
   "outputs": [],
   "source": [
    "metadata = pd.read_csv(os.path.join(DATADIR, f'CAMELS_GB_topographic_attributes.csv'))\n",
    "metadata['gauge_id'] = metadata['gauge_id'].astype(str)\n",
    "area = metadata[metadata['gauge_id'] == id]['area'].values[0]\n",
    "area *= 1e6 # km2 -> m2 \n"
   ]
  },
  {
   "cell_type": "markdown",
   "metadata": {},
   "source": [
    " Now we can transform our data to mm/day:"
   ]
  },
  {
   "cell_type": "code",
   "execution_count": 9,
   "metadata": {},
   "outputs": [],
   "source": [
    "data['discharge_vol'] /= area # m3 -> m\n",
    "data['discharge_vol'] *= 1000 # m -> mm\n"
   ]
  },
  {
   "cell_type": "markdown",
   "metadata": {},
   "source": [
    " If you look at the dataframe, you see that column `discharge_vol` is now the same as `discharge_spec`. In future, you can use `discharge_spec` directly, without the need for transformation. We now have everything we need to estimate evaporation using the water balance equation:"
   ]
  },
  {
   "cell_type": "code",
   "execution_count": 10,
   "metadata": {},
   "outputs": [],
   "source": [
    "data['evaporation'] = data['precipitation'] - data['discharge_vol']\n"
   ]
  },
  {
   "cell_type": "markdown",
   "metadata": {},
   "source": [
    " Let's plot this data:"
   ]
  },
  {
   "cell_type": "code",
   "execution_count": 11,
   "metadata": {},
   "outputs": [
    {
     "data": {
      "image/png": "[encoded data removed]",
      "text/plain": [
       "<Figure size 1200x600 with 1 Axes>"
      ]
     },
     "metadata": {},
     "output_type": "display_data"
    }
   ],
   "source": [
    "import matplotlib.pyplot as plt\n",
    "\n",
    "data = data.set_index('water_year')\n",
    "data.plot(y=['precipitation', 'discharge_spec', 'evaporation'], figsize=(12, 6))\n",
    "\n",
    "plt.title(f'Water balance for catchment {id}')\n",
    "plt.xlabel('Water year end')\n",
    "plt.ylabel('Depth (mm)')\n",
    "plt.legend(['Precipitation', 'Discharge', 'Evaporation'])\n",
    "plt.grid(True)\n",
    "plt.show()\n",
    "\n",
    "data = data.reset_index()"
   ]
  },
  {
   "cell_type": "markdown",
   "metadata": {},
   "source": [
    " ## Land cover impacts\n",
    "\n",
    " We will cover the drivers of evaporation in more detail later on the course. One question we may have is the role of different land cover types on the water balance. Let's investigate whether land use impacts evaporation by looking at some forested catchments:"
   ]
  },
  {
   "cell_type": "code",
   "execution_count": 12,
   "metadata": {},
   "outputs": [
    {
     "data": {
      "text/html": [
       "<div>\n",
       "<style scoped>\n",
       "    .dataframe tbody tr th:only-of-type {\n",
       "        vertical-align: middle;\n",
       "    }\n",
       "\n",
       "    .dataframe tbody tr th {\n",
       "        vertical-align: top;\n",
       "    }\n",
       "\n",
       "    .dataframe thead th {\n",
       "        text-align: right;\n",
       "    }\n",
       "</style>\n",
       "<table border=\"1\" class=\"dataframe\">\n",
       "  <thead>\n",
       "    <tr style=\"text-align: right;\">\n",
       "      <th></th>\n",
       "      <th>gauge_id</th>\n",
       "      <th>dwood_perc</th>\n",
       "      <th>ewood_perc</th>\n",
       "      <th>grass_perc</th>\n",
       "      <th>shrub_perc</th>\n",
       "      <th>crop_perc</th>\n",
       "      <th>urban_perc</th>\n",
       "      <th>inwater_perc</th>\n",
       "      <th>bares_perc</th>\n",
       "      <th>dom_land_cover</th>\n",
       "    </tr>\n",
       "  </thead>\n",
       "  <tbody>\n",
       "    <tr>\n",
       "      <th>0</th>\n",
       "      <td>10002</td>\n",
       "      <td>3.89</td>\n",
       "      <td>5.41</td>\n",
       "      <td>42.48</td>\n",
       "      <td>6.16</td>\n",
       "      <td>40.37</td>\n",
       "      <td>1.72</td>\n",
       "      <td>0.13</td>\n",
       "      <td>0.01</td>\n",
       "      <td>Grass and Pasture</td>\n",
       "    </tr>\n",
       "    <tr>\n",
       "      <th>1</th>\n",
       "      <td>10003</td>\n",
       "      <td>4.74</td>\n",
       "      <td>3.06</td>\n",
       "      <td>36.88</td>\n",
       "      <td>0.31</td>\n",
       "      <td>54.06</td>\n",
       "      <td>1.04</td>\n",
       "      <td>0.06</td>\n",
       "      <td>0.03</td>\n",
       "      <td>Crops</td>\n",
       "    </tr>\n",
       "    <tr>\n",
       "      <th>2</th>\n",
       "      <td>1001</td>\n",
       "      <td>0.41</td>\n",
       "      <td>12.37</td>\n",
       "      <td>39.84</td>\n",
       "      <td>41.89</td>\n",
       "      <td>1.78</td>\n",
       "      <td>0.21</td>\n",
       "      <td>3.36</td>\n",
       "      <td>0.30</td>\n",
       "      <td>Shrubs</td>\n",
       "    </tr>\n",
       "    <tr>\n",
       "      <th>3</th>\n",
       "      <td>101002</td>\n",
       "      <td>6.20</td>\n",
       "      <td>0.30</td>\n",
       "      <td>42.78</td>\n",
       "      <td>0.38</td>\n",
       "      <td>46.34</td>\n",
       "      <td>3.28</td>\n",
       "      <td>0.49</td>\n",
       "      <td>0.56</td>\n",
       "      <td>Crops</td>\n",
       "    </tr>\n",
       "    <tr>\n",
       "      <th>4</th>\n",
       "      <td>101005</td>\n",
       "      <td>4.60</td>\n",
       "      <td>0.12</td>\n",
       "      <td>59.24</td>\n",
       "      <td>0.25</td>\n",
       "      <td>31.08</td>\n",
       "      <td>4.78</td>\n",
       "      <td>0.05</td>\n",
       "      <td>0.00</td>\n",
       "      <td>Grass and Pasture</td>\n",
       "    </tr>\n",
       "  </tbody>\n",
       "</table>\n",
       "</div>"
      ],
      "text/plain": [
       "   gauge_id  dwood_perc  ewood_perc  grass_perc  shrub_perc  crop_perc  \\\n",
       "0     10002        3.89        5.41       42.48        6.16      40.37   \n",
       "1     10003        4.74        3.06       36.88        0.31      54.06   \n",
       "2      1001        0.41       12.37       39.84       41.89       1.78   \n",
       "3    101002        6.20        0.30       42.78        0.38      46.34   \n",
       "4    101005        4.60        0.12       59.24        0.25      31.08   \n",
       "\n",
       "   urban_perc  inwater_perc  bares_perc     dom_land_cover  \n",
       "0        1.72          0.13        0.01  Grass and Pasture  \n",
       "1        1.04          0.06        0.03              Crops  \n",
       "2        0.21          3.36        0.30             Shrubs  \n",
       "3        3.28          0.49        0.56              Crops  \n",
       "4        4.78          0.05        0.00  Grass and Pasture  "
      ]
     },
     "execution_count": 12,
     "metadata": {},
     "output_type": "execute_result"
    }
   ],
   "source": [
    "metadata_lu = pd.read_csv(os.path.join(DATADIR, f'CAMELS_GB_landcover_attributes.csv')) \n",
    "metadata_lu.head()"
   ]
  },
  {
   "cell_type": "markdown",
   "metadata": {},
   "source": [
    " Have a look at the columns in `metadata_lu` and consult Coxon et al. (2020). Which columns represent forest? Create a new column called `forest_perc` that combines the two types."
   ]
  },
  {
   "cell_type": "code",
   "execution_count": 16,
   "metadata": {},
   "outputs": [
    {
     "data": {
      "text/html": [
       "<div>\n",
       "<style scoped>\n",
       "    .dataframe tbody tr th:only-of-type {\n",
       "        vertical-align: middle;\n",
       "    }\n",
       "\n",
       "    .dataframe tbody tr th {\n",
       "        vertical-align: top;\n",
       "    }\n",
       "\n",
       "    .dataframe thead th {\n",
       "        text-align: right;\n",
       "    }\n",
       "</style>\n",
       "<table border=\"1\" class=\"dataframe\">\n",
       "  <thead>\n",
       "    <tr style=\"text-align: right;\">\n",
       "      <th></th>\n",
       "      <th>gauge_id</th>\n",
       "      <th>dwood_perc</th>\n",
       "      <th>ewood_perc</th>\n",
       "      <th>forest_perc</th>\n",
       "    </tr>\n",
       "  </thead>\n",
       "  <tbody>\n",
       "    <tr>\n",
       "      <th>0</th>\n",
       "      <td>10002</td>\n",
       "      <td>3.89</td>\n",
       "      <td>5.41</td>\n",
       "      <td>9.30</td>\n",
       "    </tr>\n",
       "    <tr>\n",
       "      <th>1</th>\n",
       "      <td>10003</td>\n",
       "      <td>4.74</td>\n",
       "      <td>3.06</td>\n",
       "      <td>7.80</td>\n",
       "    </tr>\n",
       "    <tr>\n",
       "      <th>2</th>\n",
       "      <td>1001</td>\n",
       "      <td>0.41</td>\n",
       "      <td>12.37</td>\n",
       "      <td>12.78</td>\n",
       "    </tr>\n",
       "    <tr>\n",
       "      <th>3</th>\n",
       "      <td>101002</td>\n",
       "      <td>6.20</td>\n",
       "      <td>0.30</td>\n",
       "      <td>6.50</td>\n",
       "    </tr>\n",
       "    <tr>\n",
       "      <th>4</th>\n",
       "      <td>101005</td>\n",
       "      <td>4.60</td>\n",
       "      <td>0.12</td>\n",
       "      <td>4.72</td>\n",
       "    </tr>\n",
       "  </tbody>\n",
       "</table>\n",
       "</div>"
      ],
      "text/plain": [
       "   gauge_id  dwood_perc  ewood_perc  forest_perc\n",
       "0     10002        3.89        5.41         9.30\n",
       "1     10003        4.74        3.06         7.80\n",
       "2      1001        0.41       12.37        12.78\n",
       "3    101002        6.20        0.30         6.50\n",
       "4    101005        4.60        0.12         4.72"
      ]
     },
     "execution_count": 16,
     "metadata": {},
     "output_type": "execute_result"
    }
   ],
   "source": [
    "metadata_lu['forest_perc'] = metadata_lu[['ewood_perc', 'dwood_perc']].sum(axis=1)\n",
    "metadata_lu[['gauge_id', 'dwood_perc', 'ewood_perc', 'forest_perc']].head()"
   ]
  },
  {
   "cell_type": "markdown",
   "metadata": {},
   "source": [
    " Now identify catchments with more than 20% forest:"
   ]
  },
  {
   "cell_type": "code",
   "execution_count": 21,
   "metadata": {},
   "outputs": [],
   "source": [
    "metadata_lu = metadata_lu.loc[metadata_lu['forest_perc'] >= 20.]\n",
    "forest_catchment_ids = metadata_lu['gauge_id'].to_list()"
   ]
  },
  {
   "cell_type": "markdown",
   "metadata": {},
   "source": [
    " To compare the impact of vegetation on runoff generation, it would be useful to compute a summary measure for each catchment. One such measure, or signature, is the runoff ratio, defined as the proportion of precipitation that becomes runoff. We can calculate this as follows:"
   ]
  },
  {
   "cell_type": "code",
   "execution_count": null,
   "metadata": {},
   "outputs": [],
   "source": [
    "data_sum = data.groupby('id')[['precipitation', 'discharge_vol']].sum()\n"
   ]
  },
  {
   "cell_type": "markdown",
   "metadata": {},
   "source": [
    " Now we can calculate the runoff ratio:"
   ]
  },
  {
   "cell_type": "code",
   "execution_count": null,
   "metadata": {},
   "outputs": [],
   "source": [
    "data_sum['runoff_ratio'] = data_sum['discharge_vol'] / data_sum['precipitation']\n"
   ]
  },
  {
   "cell_type": "markdown",
   "metadata": {},
   "source": [
    " ## Optional exercise\n",
    "\n",
    " Compute the runoff ratio for every catchment with greater than 20% forest (HINT: write a loop to perform the necessary steps). Using `statsmodels`, fit a linear regression model to the data to test the hypothesis that runoff ratio is related to the forest extent."
   ]
  },
  {
   "cell_type": "code",
   "execution_count": 29,
   "metadata": {},
   "outputs": [
    {
     "name": "stderr",
     "output_type": "stream",
     "text": [
      "100%|██████████| 133/133 [00:03<00:00, 40.40it/s]\n"
     ]
    },
    {
     "data": {
      "text/html": [
       "<div>\n",
       "<style scoped>\n",
       "    .dataframe tbody tr th:only-of-type {\n",
       "        vertical-align: middle;\n",
       "    }\n",
       "\n",
       "    .dataframe tbody tr th {\n",
       "        vertical-align: top;\n",
       "    }\n",
       "\n",
       "    .dataframe thead th {\n",
       "        text-align: right;\n",
       "    }\n",
       "</style>\n",
       "<table border=\"1\" class=\"dataframe\">\n",
       "  <thead>\n",
       "    <tr style=\"text-align: right;\">\n",
       "      <th></th>\n",
       "      <th>precipitation</th>\n",
       "      <th>discharge_spec</th>\n",
       "      <th>runoff_ratio</th>\n",
       "      <th>gauge_id</th>\n",
       "      <th>dwood_perc</th>\n",
       "      <th>ewood_perc</th>\n",
       "      <th>grass_perc</th>\n",
       "      <th>shrub_perc</th>\n",
       "      <th>crop_perc</th>\n",
       "      <th>urban_perc</th>\n",
       "      <th>inwater_perc</th>\n",
       "      <th>bares_perc</th>\n",
       "      <th>dom_land_cover</th>\n",
       "      <th>forest_perc</th>\n",
       "    </tr>\n",
       "  </thead>\n",
       "  <tbody>\n",
       "    <tr>\n",
       "      <th>0</th>\n",
       "      <td>52895.59</td>\n",
       "      <td>24853.01</td>\n",
       "      <td>0.469850</td>\n",
       "      <td>12008</td>\n",
       "      <td>2.55</td>\n",
       "      <td>18.11</td>\n",
       "      <td>11.68</td>\n",
       "      <td>65.41</td>\n",
       "      <td>2.18</td>\n",
       "      <td>0.12</td>\n",
       "      <td>0.04</td>\n",
       "      <td>0.00</td>\n",
       "      <td>Shrubs</td>\n",
       "      <td>20.66</td>\n",
       "    </tr>\n",
       "    <tr>\n",
       "      <th>1</th>\n",
       "      <td>40673.81</td>\n",
       "      <td>19805.88</td>\n",
       "      <td>0.486944</td>\n",
       "      <td>13001</td>\n",
       "      <td>3.57</td>\n",
       "      <td>16.55</td>\n",
       "      <td>23.25</td>\n",
       "      <td>3.92</td>\n",
       "      <td>51.87</td>\n",
       "      <td>0.98</td>\n",
       "      <td>0.00</td>\n",
       "      <td>0.00</td>\n",
       "      <td>Crops</td>\n",
       "      <td>20.12</td>\n",
       "    </tr>\n",
       "    <tr>\n",
       "      <th>2</th>\n",
       "      <td>41973.16</td>\n",
       "      <td>16088.01</td>\n",
       "      <td>0.383293</td>\n",
       "      <td>15021</td>\n",
       "      <td>14.70</td>\n",
       "      <td>7.04</td>\n",
       "      <td>28.73</td>\n",
       "      <td>21.30</td>\n",
       "      <td>22.70</td>\n",
       "      <td>1.84</td>\n",
       "      <td>3.81</td>\n",
       "      <td>0.00</td>\n",
       "      <td>Grass and Pasture</td>\n",
       "      <td>21.74</td>\n",
       "    </tr>\n",
       "    <tr>\n",
       "      <th>3</th>\n",
       "      <td>63438.08</td>\n",
       "      <td>34593.63</td>\n",
       "      <td>0.545313</td>\n",
       "      <td>15023</td>\n",
       "      <td>1.61</td>\n",
       "      <td>20.03</td>\n",
       "      <td>31.57</td>\n",
       "      <td>45.02</td>\n",
       "      <td>0.33</td>\n",
       "      <td>0.04</td>\n",
       "      <td>1.22</td>\n",
       "      <td>0.22</td>\n",
       "      <td>Shrubs</td>\n",
       "      <td>21.64</td>\n",
       "    </tr>\n",
       "    <tr>\n",
       "      <th>4</th>\n",
       "      <td>73958.62</td>\n",
       "      <td>41217.65</td>\n",
       "      <td>0.557307</td>\n",
       "      <td>17001</td>\n",
       "      <td>5.16</td>\n",
       "      <td>27.94</td>\n",
       "      <td>38.74</td>\n",
       "      <td>17.04</td>\n",
       "      <td>2.67</td>\n",
       "      <td>3.53</td>\n",
       "      <td>4.68</td>\n",
       "      <td>0.36</td>\n",
       "      <td>Grass and Pasture</td>\n",
       "      <td>33.10</td>\n",
       "    </tr>\n",
       "  </tbody>\n",
       "</table>\n",
       "</div>"
      ],
      "text/plain": [
       "   precipitation  discharge_spec  runoff_ratio  gauge_id  dwood_perc  \\\n",
       "0       52895.59        24853.01      0.469850     12008        2.55   \n",
       "1       40673.81        19805.88      0.486944     13001        3.57   \n",
       "2       41973.16        16088.01      0.383293     15021       14.70   \n",
       "3       63438.08        34593.63      0.545313     15023        1.61   \n",
       "4       73958.62        41217.65      0.557307     17001        5.16   \n",
       "\n",
       "   ewood_perc  grass_perc  shrub_perc  crop_perc  urban_perc  inwater_perc  \\\n",
       "0       18.11       11.68       65.41       2.18        0.12          0.04   \n",
       "1       16.55       23.25        3.92      51.87        0.98          0.00   \n",
       "2        7.04       28.73       21.30      22.70        1.84          3.81   \n",
       "3       20.03       31.57       45.02       0.33        0.04          1.22   \n",
       "4       27.94       38.74       17.04       2.67        3.53          4.68   \n",
       "\n",
       "   bares_perc     dom_land_cover  forest_perc  \n",
       "0        0.00             Shrubs        20.66  \n",
       "1        0.00              Crops        20.12  \n",
       "2        0.00  Grass and Pasture        21.74  \n",
       "3        0.22             Shrubs        21.64  \n",
       "4        0.36  Grass and Pasture        33.10  "
      ]
     },
     "execution_count": 29,
     "metadata": {},
     "output_type": "execute_result"
    }
   ],
   "source": [
    "def read_camels_data(id): \n",
    "    data = pd.read_csv(os.path.join(DATADIR, 'timeseries', f'CAMELS_GB_hydromet_timeseries_{id}_19701001-20150930.csv'), parse_dates=[0])\n",
    "    return data \n",
    "\n",
    "def compute_runoff_ratio(data):\n",
    "    data_sum = data.groupby('id')[['precipitation', 'discharge_spec']].sum()\n",
    "    data_sum['runoff_ratio'] = data_sum['discharge_spec'] / data_sum['precipitation']\n",
    "    #data_sum = data_sum[['id', 'runoff_ratio']]\n",
    "    return data_sum\n",
    "\n",
    "from tqdm import tqdm\n",
    "\n",
    "rr_list = []\n",
    "for id in tqdm(forest_catchment_ids): \n",
    "    data = read_camels_data(id)\n",
    "    data['id'] = id\n",
    "    rr = compute_runoff_ratio(data)\n",
    "    rr_list.append(rr)\n",
    "\n",
    "rr = pd.concat(rr_list)\n",
    "rr = rr.merge(metadata_lu, how='left', left_on='id', right_on='gauge_id')\n",
    "rr.head()\n"
   ]
  },
  {
   "cell_type": "markdown",
   "metadata": {},
   "source": [
    "We now have a dataframe containing our dependent variable (`runoff_ratio`) and our independent variable (`forest_perc`). Now let's fit a linear regression model to see if the two are related: "
   ]
  },
  {
   "cell_type": "code",
   "execution_count": 34,
   "metadata": {
    "scrolled": true
   },
   "outputs": [
    {
     "name": "stdout",
     "output_type": "stream",
     "text": [
      "                            OLS Regression Results                            \n",
      "==============================================================================\n",
      "Dep. Variable:           runoff_ratio   R-squared:                       0.023\n",
      "Model:                            OLS   Adj. R-squared:                  0.015\n",
      "Method:                 Least Squares   F-statistic:                     3.048\n",
      "Date:                Wed, 15 Jan 2025   Prob (F-statistic):             0.0832\n",
      "Time:                        20:10:50   Log-Likelihood:                 28.633\n",
      "No. Observations:                 133   AIC:                            -53.27\n",
      "Df Residuals:                     131   BIC:                            -47.49\n",
      "Df Model:                           1                                         \n",
      "Covariance Type:            nonrobust                                         \n",
      "===============================================================================\n",
      "                  coef    std err          t      P>|t|      [0.025      0.975]\n",
      "-------------------------------------------------------------------------------\n",
      "const           0.4582      0.044     10.333      0.000       0.370       0.546\n",
      "forest_perc     0.0022      0.001      1.746      0.083      -0.000       0.005\n",
      "==============================================================================\n",
      "Omnibus:                       10.818   Durbin-Watson:                   0.880\n",
      "Prob(Omnibus):                  0.004   Jarque-Bera (JB):                5.641\n",
      "Skew:                          -0.303   Prob(JB):                       0.0596\n",
      "Kurtosis:                       2.193   Cond. No.                         90.6\n",
      "==============================================================================\n",
      "\n",
      "Notes:\n",
      "[1] Standard Errors assume that the covariance matrix of the errors is correctly specified.\n"
     ]
    }
   ],
   "source": [
    "import statsmodels.api as sm\n",
    "\n",
    "X = rr[\"forest_perc\"]\n",
    "y = rr[\"runoff_ratio\"]\n",
    "\n",
    "# Add a constant to the predictor for the intercept term\n",
    "X = sm.add_constant(X)\n",
    "\n",
    "# Fit the linear regression model\n",
    "model = sm.OLS(y, X).fit()\n",
    "\n",
    "# Print the model summary\n",
    "print(model.summary())"
   ]
  },
  {
   "cell_type": "markdown",
   "metadata": {},
   "source": [
    "This suggests that, using linear regression, we cannot reject the null hypothesis that the runoff ratio is not related to forest cover $p>0.05$. However, it is possible that linear regression is not the most suitable model. Let's visualize the relationship:"
   ]
  },
  {
   "cell_type": "code",
   "execution_count": 33,
   "metadata": {},
   "outputs": [
    {
     "data": {
      "image/png": "[encoded data removed]",
      "text/plain": [
       "<Figure size 800x600 with 1 Axes>"
      ]
     },
     "metadata": {},
     "output_type": "display_data"
    }
   ],
   "source": [
    "plt.figure(figsize=(8, 6))\n",
    "plt.scatter(rr['forest_perc'], rr['runoff_ratio'], color='blue', alpha=0.7, label='Data Points')\n",
    "\n",
    "# Add labels and title\n",
    "plt.xlabel('Forest Percent (%)', fontsize=12)\n",
    "plt.ylabel('Runoff Ratio', fontsize=12)\n",
    "plt.title('Runoff Ratio vs Forest Percent', fontsize=14)\n",
    "plt.show()"
   ]
  },
  {
   "cell_type": "markdown",
   "metadata": {},
   "source": [
    "It looks as though there might be a nonlinear relationship here. From a theoretical standpoint we would expect the runoff ratio to decrease with forest cover becauses forests evaporate more water than other land cover types. So, clearly, there are additional complexities that we haven't considered in our simple model."
   ]
  },
  {
   "cell_type": "code",
   "execution_count": null,
   "metadata": {},
   "outputs": [],
   "source": []
  }
 ],
 "metadata": {
  "kernelspec": {
   "display_name": "Python 3 (ipykernel)",
   "language": "python",
   "name": "python3"
  },
  "language_info": {
   "codemirror_mode": {
    "name": "ipython",
    "version": 3
   },
   "file_extension": ".py",
   "mimetype": "text/x-python",
   "name": "python",
   "nbconvert_exporter": "python",
   "pygments_lexer": "ipython3",
   "version": "3.11.9"
  }
 },
 "nbformat": 4,
 "nbformat_minor": 2
}
