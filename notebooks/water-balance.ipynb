{
 "cells": [
  {
   "cell_type": "markdown",
   "metadata": {},
   "source": [
    " # Applying the water balance equation\n",
    "\n",
    "\n",
    "\n",
    " ## Objectives\n",
    "\n",
    " - Apply the water balance equation to real-world data\n",
    "\n",
    " - Test the impact of land cover on the runoff ratio\n",
    "\n",
    " - Fit a simple statistical model to data\n",
    "\n",
    "\n",
    "\n",
    " ## Prerequisites:\n",
    "\n",
    " - Basic understanding of Python\n",
    "\n",
    " - Familiarity with Pandas, Matplotlib"
   ]
  },
  {
   "cell_type": "markdown",
   "metadata": {},
   "source": [
    " ## Dataset\n",
    "\n",
    " We will be using the CAMELS-GB dataset. This contains daily hydrometeorological data for around 670 catchments in Great Britain, as well as catchment attributes related to land use/land cover, geology, and climate. Download the data [here](https://catalogue.ceh.ac.uk/documents/8344e4f3-d2ea-44f5-8afa-86d2987543a9), then upload it to the (currently) empty `data` folder in this repository. Now extract the data archive: "
   ]
  },
  {
   "cell_type": "code",
   "execution_count": 67,
   "metadata": {},
   "outputs": [],
   "source": [
    "import os\n",
    "import zipfile\n",
    "\n",
    "zip_path = 'data/8344e4f3-d2ea-44f5-8afa-86d2987543a9.zip'\n",
    "extract_dir = 'data/8344e4f3-d2ea-44f5-8afa-86d2987543a9'\n",
    "\n",
    "if not os.path.isdir(extract_dir):\n",
    "    try:\n",
    "        with zipfile.ZipFile(zip_path, 'r') as archive:\n",
    "            archive.extractall('data')\n",
    "    except FileNotFoundError:\n",
    "        print(f\"Zip file {zip_path} not found.\")\n",
    "    except zipfile.BadZipFile:\n",
    "        print(f\"Zip file {zip_path} is corrupt.\")"
   ]
  },
  {
   "cell_type": "markdown",
   "metadata": {},
   "source": [
    "Let's create a path variable so that we can easily navigate to the data files:"
   ]
  },
  {
   "cell_type": "code",
   "execution_count": 68,
   "metadata": {},
   "outputs": [],
   "source": [
    "import os\n",
    "DATADIR = os.path.join('data', '8344e4f3-d2ea-44f5-8afa-86d2987543a9', 'data')\n"
   ]
  },
  {
   "cell_type": "markdown",
   "metadata": {},
   "source": [
    " Now Load the data for a catchment chosen at random. The timeseries data are stored as csv files, so we use Pandas to load them into a Pandas DataFrame object:"
   ]
  },
  {
   "cell_type": "code",
   "execution_count": 69,
   "metadata": {},
   "outputs": [
    {
     "data": {
      "text/html": [
       "<div>\n",
       "<style scoped>\n",
       "    .dataframe tbody tr th:only-of-type {\n",
       "        vertical-align: middle;\n",
       "    }\n",
       "\n",
       "    .dataframe tbody tr th {\n",
       "        vertical-align: top;\n",
       "    }\n",
       "\n",
       "    .dataframe thead th {\n",
       "        text-align: right;\n",
       "    }\n",
       "</style>\n",
       "<table border=\"1\" class=\"dataframe\">\n",
       "  <thead>\n",
       "    <tr style=\"text-align: right;\">\n",
       "      <th></th>\n",
       "      <th>date</th>\n",
       "      <th>precipitation</th>\n",
       "      <th>pet</th>\n",
       "      <th>temperature</th>\n",
       "      <th>discharge_spec</th>\n",
       "      <th>discharge_vol</th>\n",
       "      <th>peti</th>\n",
       "      <th>humidity</th>\n",
       "      <th>shortwave_rad</th>\n",
       "      <th>longwave_rad</th>\n",
       "      <th>windspeed</th>\n",
       "    </tr>\n",
       "  </thead>\n",
       "  <tbody>\n",
       "    <tr>\n",
       "      <th>0</th>\n",
       "      <td>1970-10-01</td>\n",
       "      <td>9.93</td>\n",
       "      <td>1.02</td>\n",
       "      <td>8.91</td>\n",
       "      <td>NaN</td>\n",
       "      <td>NaN</td>\n",
       "      <td>1.31</td>\n",
       "      <td>6.01</td>\n",
       "      <td>61.76</td>\n",
       "      <td>325.33</td>\n",
       "      <td>7.65</td>\n",
       "    </tr>\n",
       "    <tr>\n",
       "      <th>1</th>\n",
       "      <td>1970-10-02</td>\n",
       "      <td>4.01</td>\n",
       "      <td>1.41</td>\n",
       "      <td>7.66</td>\n",
       "      <td>NaN</td>\n",
       "      <td>NaN</td>\n",
       "      <td>1.76</td>\n",
       "      <td>5.11</td>\n",
       "      <td>93.56</td>\n",
       "      <td>294.20</td>\n",
       "      <td>10.03</td>\n",
       "    </tr>\n",
       "    <tr>\n",
       "      <th>2</th>\n",
       "      <td>1970-10-03</td>\n",
       "      <td>7.27</td>\n",
       "      <td>1.17</td>\n",
       "      <td>8.77</td>\n",
       "      <td>NaN</td>\n",
       "      <td>NaN</td>\n",
       "      <td>1.40</td>\n",
       "      <td>5.41</td>\n",
       "      <td>61.95</td>\n",
       "      <td>321.14</td>\n",
       "      <td>5.41</td>\n",
       "    </tr>\n",
       "    <tr>\n",
       "      <th>3</th>\n",
       "      <td>1970-10-04</td>\n",
       "      <td>3.77</td>\n",
       "      <td>0.06</td>\n",
       "      <td>9.74</td>\n",
       "      <td>NaN</td>\n",
       "      <td>NaN</td>\n",
       "      <td>0.23</td>\n",
       "      <td>7.76</td>\n",
       "      <td>42.83</td>\n",
       "      <td>341.28</td>\n",
       "      <td>7.27</td>\n",
       "    </tr>\n",
       "    <tr>\n",
       "      <th>4</th>\n",
       "      <td>1970-10-05</td>\n",
       "      <td>1.19</td>\n",
       "      <td>1.56</td>\n",
       "      <td>9.46</td>\n",
       "      <td>NaN</td>\n",
       "      <td>NaN</td>\n",
       "      <td>1.86</td>\n",
       "      <td>5.49</td>\n",
       "      <td>92.13</td>\n",
       "      <td>299.08</td>\n",
       "      <td>7.90</td>\n",
       "    </tr>\n",
       "  </tbody>\n",
       "</table>\n",
       "</div>"
      ],
      "text/plain": [
       "        date  precipitation   pet  temperature  discharge_spec  discharge_vol  \\\n",
       "0 1970-10-01           9.93  1.02         8.91             NaN            NaN   \n",
       "1 1970-10-02           4.01  1.41         7.66             NaN            NaN   \n",
       "2 1970-10-03           7.27  1.17         8.77             NaN            NaN   \n",
       "3 1970-10-04           3.77  0.06         9.74             NaN            NaN   \n",
       "4 1970-10-05           1.19  1.56         9.46             NaN            NaN   \n",
       "\n",
       "   peti  humidity  shortwave_rad  longwave_rad  windspeed  \n",
       "0  1.31      6.01          61.76        325.33       7.65  \n",
       "1  1.76      5.11          93.56        294.20      10.03  \n",
       "2  1.40      5.41          61.95        321.14       5.41  \n",
       "3  0.23      7.76          42.83        341.28       7.27  \n",
       "4  1.86      5.49          92.13        299.08       7.90  "
      ]
     },
     "execution_count": 69,
     "metadata": {},
     "output_type": "execute_result"
    }
   ],
   "source": [
    "import pandas as pd\n",
    "id = '97002'\n",
    "data = pd.read_csv(os.path.join(DATADIR, 'timeseries', f'CAMELS_GB_hydromet_timeseries_{id}_19701001-20150930.csv'), parse_dates=[0])\n",
    "data.head()\n"
   ]
  },
  {
   "cell_type": "markdown",
   "metadata": {},
   "source": [
    " Later on it will be useful to have the catchment ID in the dataframe, so we add it here:"
   ]
  },
  {
   "cell_type": "code",
   "execution_count": 70,
   "metadata": {},
   "outputs": [],
   "source": [
    "data['id'] = id\n"
   ]
  },
  {
   "cell_type": "markdown",
   "metadata": {},
   "source": [
    "We can also see that the `discharge_vol` column contains `NaN` values - these usually indicate missing data. There are various things we can do to handle (or impute) missing values, but for now let's just remove them: "
   ]
  },
  {
   "cell_type": "code",
   "execution_count": 71,
   "metadata": {},
   "outputs": [
    {
     "data": {
      "text/html": [
       "<div>\n",
       "<style scoped>\n",
       "    .dataframe tbody tr th:only-of-type {\n",
       "        vertical-align: middle;\n",
       "    }\n",
       "\n",
       "    .dataframe tbody tr th {\n",
       "        vertical-align: top;\n",
       "    }\n",
       "\n",
       "    .dataframe thead th {\n",
       "        text-align: right;\n",
       "    }\n",
       "</style>\n",
       "<table border=\"1\" class=\"dataframe\">\n",
       "  <thead>\n",
       "    <tr style=\"text-align: right;\">\n",
       "      <th></th>\n",
       "      <th>date</th>\n",
       "      <th>precipitation</th>\n",
       "      <th>pet</th>\n",
       "      <th>temperature</th>\n",
       "      <th>discharge_spec</th>\n",
       "      <th>discharge_vol</th>\n",
       "      <th>peti</th>\n",
       "      <th>humidity</th>\n",
       "      <th>shortwave_rad</th>\n",
       "      <th>longwave_rad</th>\n",
       "      <th>windspeed</th>\n",
       "      <th>id</th>\n",
       "    </tr>\n",
       "  </thead>\n",
       "  <tbody>\n",
       "    <tr>\n",
       "      <th>457</th>\n",
       "      <td>1972-01-01</td>\n",
       "      <td>0.00</td>\n",
       "      <td>0.21</td>\n",
       "      <td>3.92</td>\n",
       "      <td>1.12</td>\n",
       "      <td>5.37</td>\n",
       "      <td>0.21</td>\n",
       "      <td>4.20</td>\n",
       "      <td>15.49</td>\n",
       "      <td>284.96</td>\n",
       "      <td>4.77</td>\n",
       "      <td>97002</td>\n",
       "    </tr>\n",
       "    <tr>\n",
       "      <th>458</th>\n",
       "      <td>1972-01-02</td>\n",
       "      <td>0.84</td>\n",
       "      <td>0.20</td>\n",
       "      <td>3.66</td>\n",
       "      <td>1.05</td>\n",
       "      <td>5.03</td>\n",
       "      <td>0.32</td>\n",
       "      <td>4.53</td>\n",
       "      <td>8.64</td>\n",
       "      <td>311.41</td>\n",
       "      <td>5.63</td>\n",
       "      <td>97002</td>\n",
       "    </tr>\n",
       "    <tr>\n",
       "      <th>459</th>\n",
       "      <td>1972-01-03</td>\n",
       "      <td>2.09</td>\n",
       "      <td>0.31</td>\n",
       "      <td>3.69</td>\n",
       "      <td>1.08</td>\n",
       "      <td>5.20</td>\n",
       "      <td>0.44</td>\n",
       "      <td>4.25</td>\n",
       "      <td>8.75</td>\n",
       "      <td>310.61</td>\n",
       "      <td>4.49</td>\n",
       "      <td>97002</td>\n",
       "    </tr>\n",
       "    <tr>\n",
       "      <th>460</th>\n",
       "      <td>1972-01-04</td>\n",
       "      <td>1.38</td>\n",
       "      <td>0.01</td>\n",
       "      <td>3.09</td>\n",
       "      <td>1.19</td>\n",
       "      <td>5.73</td>\n",
       "      <td>0.01</td>\n",
       "      <td>4.34</td>\n",
       "      <td>5.78</td>\n",
       "      <td>308.46</td>\n",
       "      <td>2.29</td>\n",
       "      <td>97002</td>\n",
       "    </tr>\n",
       "    <tr>\n",
       "      <th>461</th>\n",
       "      <td>1972-01-05</td>\n",
       "      <td>0.47</td>\n",
       "      <td>0.02</td>\n",
       "      <td>2.61</td>\n",
       "      <td>1.12</td>\n",
       "      <td>5.37</td>\n",
       "      <td>0.03</td>\n",
       "      <td>4.03</td>\n",
       "      <td>9.34</td>\n",
       "      <td>304.41</td>\n",
       "      <td>1.72</td>\n",
       "      <td>97002</td>\n",
       "    </tr>\n",
       "  </tbody>\n",
       "</table>\n",
       "</div>"
      ],
      "text/plain": [
       "          date  precipitation   pet  temperature  discharge_spec  \\\n",
       "457 1972-01-01           0.00  0.21         3.92            1.12   \n",
       "458 1972-01-02           0.84  0.20         3.66            1.05   \n",
       "459 1972-01-03           2.09  0.31         3.69            1.08   \n",
       "460 1972-01-04           1.38  0.01         3.09            1.19   \n",
       "461 1972-01-05           0.47  0.02         2.61            1.12   \n",
       "\n",
       "     discharge_vol  peti  humidity  shortwave_rad  longwave_rad  windspeed  \\\n",
       "457           5.37  0.21      4.20          15.49        284.96       4.77   \n",
       "458           5.03  0.32      4.53           8.64        311.41       5.63   \n",
       "459           5.20  0.44      4.25           8.75        310.61       4.49   \n",
       "460           5.73  0.01      4.34           5.78        308.46       2.29   \n",
       "461           5.37  0.03      4.03           9.34        304.41       1.72   \n",
       "\n",
       "        id  \n",
       "457  97002  \n",
       "458  97002  \n",
       "459  97002  \n",
       "460  97002  \n",
       "461  97002  "
      ]
     },
     "execution_count": 71,
     "metadata": {},
     "output_type": "execute_result"
    }
   ],
   "source": [
    "data = data.dropna(subset=['discharge_vol'])\n",
    "data.head()"
   ]
  },
  {
   "cell_type": "markdown",
   "metadata": {},
   "source": [
    " Recall the water balance equation from lecture 1:\n",
    "\n",
    " $\\frac{dS}{dt} = P - E - Q$\n",
    "\n",
    " where $\\frac{dS}{dt}$ is the change in storage over time, $P$ is precipitation, $E$ is evaporation and $Q$ is streamflow. Also recall that over long time periods we can assume the storage term tends towards zero. Now we can write:\n",
    "\n",
    " $0 = P - E - Q$\n",
    "\n",
    " and hence:\n",
    "\n",
    " $E = P - Q.$\n",
    "\n",
    " This is convenient because evaporation is hard to measure accurately. Let's use the equation above to estimate the catchment-averaged evaporation. We will work at annual timescales so that we can reasonably assume that the storage term is negligible. First we need to compute the annual precipitation and discharge. To do this we typically use the \"water year\" instead of the calendar year. This avoids the potential for large errors in the water balance because catchment storage can vary significantly during the wet season. In the UK the water year is taken as 1st October to 30th September. Fortunately Pandas has some magic that allows us to easily aggregate by water year:"
   ]
  },
  {
   "cell_type": "code",
   "execution_count": 72,
   "metadata": {},
   "outputs": [
    {
     "data": {
      "text/html": [
       "<div>\n",
       "<style scoped>\n",
       "    .dataframe tbody tr th:only-of-type {\n",
       "        vertical-align: middle;\n",
       "    }\n",
       "\n",
       "    .dataframe tbody tr th {\n",
       "        vertical-align: top;\n",
       "    }\n",
       "\n",
       "    .dataframe thead th {\n",
       "        text-align: right;\n",
       "    }\n",
       "</style>\n",
       "<table border=\"1\" class=\"dataframe\">\n",
       "  <thead>\n",
       "    <tr style=\"text-align: right;\">\n",
       "      <th></th>\n",
       "      <th>date</th>\n",
       "      <th>precipitation</th>\n",
       "      <th>pet</th>\n",
       "      <th>temperature</th>\n",
       "      <th>discharge_spec</th>\n",
       "      <th>discharge_vol</th>\n",
       "      <th>peti</th>\n",
       "      <th>humidity</th>\n",
       "      <th>shortwave_rad</th>\n",
       "      <th>longwave_rad</th>\n",
       "      <th>windspeed</th>\n",
       "      <th>id</th>\n",
       "      <th>water_year</th>\n",
       "    </tr>\n",
       "  </thead>\n",
       "  <tbody>\n",
       "    <tr>\n",
       "      <th>457</th>\n",
       "      <td>1972-01-01</td>\n",
       "      <td>0.00</td>\n",
       "      <td>0.21</td>\n",
       "      <td>3.92</td>\n",
       "      <td>1.12</td>\n",
       "      <td>5.37</td>\n",
       "      <td>0.21</td>\n",
       "      <td>4.20</td>\n",
       "      <td>15.49</td>\n",
       "      <td>284.96</td>\n",
       "      <td>4.77</td>\n",
       "      <td>97002</td>\n",
       "      <td>1972</td>\n",
       "    </tr>\n",
       "    <tr>\n",
       "      <th>458</th>\n",
       "      <td>1972-01-02</td>\n",
       "      <td>0.84</td>\n",
       "      <td>0.20</td>\n",
       "      <td>3.66</td>\n",
       "      <td>1.05</td>\n",
       "      <td>5.03</td>\n",
       "      <td>0.32</td>\n",
       "      <td>4.53</td>\n",
       "      <td>8.64</td>\n",
       "      <td>311.41</td>\n",
       "      <td>5.63</td>\n",
       "      <td>97002</td>\n",
       "      <td>1972</td>\n",
       "    </tr>\n",
       "    <tr>\n",
       "      <th>459</th>\n",
       "      <td>1972-01-03</td>\n",
       "      <td>2.09</td>\n",
       "      <td>0.31</td>\n",
       "      <td>3.69</td>\n",
       "      <td>1.08</td>\n",
       "      <td>5.20</td>\n",
       "      <td>0.44</td>\n",
       "      <td>4.25</td>\n",
       "      <td>8.75</td>\n",
       "      <td>310.61</td>\n",
       "      <td>4.49</td>\n",
       "      <td>97002</td>\n",
       "      <td>1972</td>\n",
       "    </tr>\n",
       "    <tr>\n",
       "      <th>460</th>\n",
       "      <td>1972-01-04</td>\n",
       "      <td>1.38</td>\n",
       "      <td>0.01</td>\n",
       "      <td>3.09</td>\n",
       "      <td>1.19</td>\n",
       "      <td>5.73</td>\n",
       "      <td>0.01</td>\n",
       "      <td>4.34</td>\n",
       "      <td>5.78</td>\n",
       "      <td>308.46</td>\n",
       "      <td>2.29</td>\n",
       "      <td>97002</td>\n",
       "      <td>1972</td>\n",
       "    </tr>\n",
       "    <tr>\n",
       "      <th>461</th>\n",
       "      <td>1972-01-05</td>\n",
       "      <td>0.47</td>\n",
       "      <td>0.02</td>\n",
       "      <td>2.61</td>\n",
       "      <td>1.12</td>\n",
       "      <td>5.37</td>\n",
       "      <td>0.03</td>\n",
       "      <td>4.03</td>\n",
       "      <td>9.34</td>\n",
       "      <td>304.41</td>\n",
       "      <td>1.72</td>\n",
       "      <td>97002</td>\n",
       "      <td>1972</td>\n",
       "    </tr>\n",
       "  </tbody>\n",
       "</table>\n",
       "</div>"
      ],
      "text/plain": [
       "          date  precipitation   pet  temperature  discharge_spec  \\\n",
       "457 1972-01-01           0.00  0.21         3.92            1.12   \n",
       "458 1972-01-02           0.84  0.20         3.66            1.05   \n",
       "459 1972-01-03           2.09  0.31         3.69            1.08   \n",
       "460 1972-01-04           1.38  0.01         3.09            1.19   \n",
       "461 1972-01-05           0.47  0.02         2.61            1.12   \n",
       "\n",
       "     discharge_vol  peti  humidity  shortwave_rad  longwave_rad  windspeed  \\\n",
       "457           5.37  0.21      4.20          15.49        284.96       4.77   \n",
       "458           5.03  0.32      4.53           8.64        311.41       5.63   \n",
       "459           5.20  0.44      4.25           8.75        310.61       4.49   \n",
       "460           5.73  0.01      4.34           5.78        308.46       2.29   \n",
       "461           5.37  0.03      4.03           9.34        304.41       1.72   \n",
       "\n",
       "        id water_year  \n",
       "457  97002       1972  \n",
       "458  97002       1972  \n",
       "459  97002       1972  \n",
       "460  97002       1972  \n",
       "461  97002       1972  "
      ]
     },
     "execution_count": 72,
     "metadata": {},
     "output_type": "execute_result"
    }
   ],
   "source": [
    "data['water_year'] = data['date'].dt.to_period('Y-SEP')\n",
    "data.head()\n"
   ]
  },
  {
   "cell_type": "markdown",
   "metadata": {},
   "source": [
    " Here, `A-SEP` is a period alias for \"annual frequency, anchored end of September\". Learn more about period aliases by consulting the [Pandas documentation](https://pandas.pydata.org/docs/user_guide/timeseries.html#timeseries-period-aliases).\n",
    "\n",
    "\n",
    "\n",
    " We also need to convert the discharge from m3/s to m3/day:"
   ]
  },
  {
   "cell_type": "markdown",
   "metadata": {},
   "source": [
    " Now we group our dataframe by the new `water_year` column, and compute the sum of precipitation and discharge:"
   ]
  },
  {
   "cell_type": "code",
   "execution_count": 73,
   "metadata": {},
   "outputs": [],
   "source": [
    "data['discharge_vol'] *= 60 * 60 * 24\n",
    "data = data.groupby(['id', 'water_year'])[['precipitation', 'pet', 'discharge_spec', 'discharge_vol']].sum().reset_index()\n"
   ]
  },
  {
   "cell_type": "markdown",
   "metadata": {},
   "source": [
    " Aggregating data is an extremely useful skill in hydrology. Think about how you might use Pandas to aggregate by month or by season.\n",
    "\n",
    "\n",
    "\n",
    " When making comparisons between catchments, it is common to transform all variables to a *depth* so that the effect of catchment area is reduced. This allows us to compare the hydrological behaviour of a large catchment (e.g. Tweed) with a much smaller catchment. Let's load the catchment attributes and find the area of our catchment."
   ]
  },
  {
   "cell_type": "code",
   "execution_count": 74,
   "metadata": {},
   "outputs": [],
   "source": [
    "metadata = pd.read_csv(os.path.join(DATADIR, f'CAMELS_GB_topographic_attributes.csv'))\n",
    "metadata['gauge_id'] = metadata['gauge_id'].astype(str)\n",
    "area = metadata[metadata['gauge_id'] == id]['area'].values[0]\n",
    "area *= 1e6 # km2 -> m2 \n"
   ]
  },
  {
   "cell_type": "markdown",
   "metadata": {},
   "source": [
    " Now we can transform our data to mm/day:"
   ]
  },
  {
   "cell_type": "code",
   "execution_count": 75,
   "metadata": {},
   "outputs": [],
   "source": [
    "data['discharge_vol'] /= area # m3 -> m\n",
    "data['discharge_vol'] *= 1000 # m -> mm\n"
   ]
  },
  {
   "cell_type": "markdown",
   "metadata": {},
   "source": [
    " If you look at the dataframe, you see that column `discharge_vol` is now the same as `discharge_spec`. In future, you can use `discharge_spec` directly, without the need for transformation. We now have everything we need to estimate evaporation using the water balance equation:"
   ]
  },
  {
   "cell_type": "code",
   "execution_count": 76,
   "metadata": {},
   "outputs": [],
   "source": [
    "data['evaporation'] = data['precipitation'] - data['discharge_vol']\n"
   ]
  },
  {
   "cell_type": "markdown",
   "metadata": {},
   "source": [
    " Let's plot this data:"
   ]
  },
  {
   "cell_type": "code",
   "execution_count": 78,
   "metadata": {},
   "outputs": [
    {
     "ename": "KeyError",
     "evalue": "\"None of ['water_year'] are in the columns\"",
     "output_type": "error",
     "traceback": [
      "\u001b[0;31m---------------------------------------------------------------------------\u001b[0m",
      "\u001b[0;31mKeyError\u001b[0m                                  Traceback (most recent call last)",
      "\u001b[0;32m/var/folders/7k/qtrfjf450td_j671mcj999bc0000gn/T/ipykernel_84576/2148444828.py\u001b[0m in \u001b[0;36m?\u001b[0;34m()\u001b[0m\n\u001b[1;32m      1\u001b[0m \u001b[0;32mimport\u001b[0m \u001b[0mmatplotlib\u001b[0m\u001b[0;34m.\u001b[0m\u001b[0mpyplot\u001b[0m \u001b[0;32mas\u001b[0m \u001b[0mplt\u001b[0m\u001b[0;34m\u001b[0m\u001b[0;34m\u001b[0m\u001b[0m\n\u001b[1;32m      2\u001b[0m \u001b[0;34m\u001b[0m\u001b[0m\n\u001b[0;32m----> 3\u001b[0;31m \u001b[0mdata\u001b[0m \u001b[0;34m=\u001b[0m \u001b[0mdata\u001b[0m\u001b[0;34m.\u001b[0m\u001b[0mset_index\u001b[0m\u001b[0;34m(\u001b[0m\u001b[0;34m'water_year'\u001b[0m\u001b[0;34m)\u001b[0m\u001b[0;34m\u001b[0m\u001b[0;34m\u001b[0m\u001b[0m\n\u001b[0m\u001b[1;32m      4\u001b[0m \u001b[0mdata\u001b[0m\u001b[0;34m.\u001b[0m\u001b[0mplot\u001b[0m\u001b[0;34m(\u001b[0m\u001b[0my\u001b[0m\u001b[0;34m=\u001b[0m\u001b[0;34m[\u001b[0m\u001b[0;34m'precipitation'\u001b[0m\u001b[0;34m,\u001b[0m \u001b[0;34m'discharge_spec'\u001b[0m\u001b[0;34m,\u001b[0m \u001b[0;34m'evaporation'\u001b[0m\u001b[0;34m]\u001b[0m\u001b[0;34m,\u001b[0m \u001b[0mfigsize\u001b[0m\u001b[0;34m=\u001b[0m\u001b[0;34m(\u001b[0m\u001b[0;36m12\u001b[0m\u001b[0;34m,\u001b[0m \u001b[0;36m6\u001b[0m\u001b[0;34m)\u001b[0m\u001b[0;34m)\u001b[0m\u001b[0;34m\u001b[0m\u001b[0;34m\u001b[0m\u001b[0m\n\u001b[1;32m      5\u001b[0m \u001b[0;34m\u001b[0m\u001b[0m\n\u001b[1;32m      6\u001b[0m \u001b[0mplt\u001b[0m\u001b[0;34m.\u001b[0m\u001b[0mtitle\u001b[0m\u001b[0;34m(\u001b[0m\u001b[0;34mf'\u001b[0m\u001b[0;34mWater balance for catchment \u001b[0m\u001b[0;34m{\u001b[0m\u001b[0mid\u001b[0m\u001b[0;34m}\u001b[0m\u001b[0;34m'\u001b[0m\u001b[0;34m)\u001b[0m\u001b[0;34m\u001b[0m\u001b[0;34m\u001b[0m\u001b[0m\n",
      "\u001b[0;32m~/mambaforge/envs/global-hydrology-book/lib/python3.12/site-packages/pandas/core/frame.py\u001b[0m in \u001b[0;36m?\u001b[0;34m(self, keys, drop, append, inplace, verify_integrity)\u001b[0m\n\u001b[1;32m   6118\u001b[0m                     \u001b[0;32mif\u001b[0m \u001b[0;32mnot\u001b[0m \u001b[0mfound\u001b[0m\u001b[0;34m:\u001b[0m\u001b[0;34m\u001b[0m\u001b[0;34m\u001b[0m\u001b[0m\n\u001b[1;32m   6119\u001b[0m                         \u001b[0mmissing\u001b[0m\u001b[0;34m.\u001b[0m\u001b[0mappend\u001b[0m\u001b[0;34m(\u001b[0m\u001b[0mcol\u001b[0m\u001b[0;34m)\u001b[0m\u001b[0;34m\u001b[0m\u001b[0;34m\u001b[0m\u001b[0m\n\u001b[1;32m   6120\u001b[0m \u001b[0;34m\u001b[0m\u001b[0m\n\u001b[1;32m   6121\u001b[0m         \u001b[0;32mif\u001b[0m \u001b[0mmissing\u001b[0m\u001b[0;34m:\u001b[0m\u001b[0;34m\u001b[0m\u001b[0;34m\u001b[0m\u001b[0m\n\u001b[0;32m-> 6122\u001b[0;31m             \u001b[0;32mraise\u001b[0m \u001b[0mKeyError\u001b[0m\u001b[0;34m(\u001b[0m\u001b[0;34mf\"\u001b[0m\u001b[0;34mNone of \u001b[0m\u001b[0;34m{\u001b[0m\u001b[0mmissing\u001b[0m\u001b[0;34m}\u001b[0m\u001b[0;34m are in the columns\u001b[0m\u001b[0;34m\"\u001b[0m\u001b[0;34m)\u001b[0m\u001b[0;34m\u001b[0m\u001b[0;34m\u001b[0m\u001b[0m\n\u001b[0m\u001b[1;32m   6123\u001b[0m \u001b[0;34m\u001b[0m\u001b[0m\n\u001b[1;32m   6124\u001b[0m         \u001b[0;32mif\u001b[0m \u001b[0minplace\u001b[0m\u001b[0;34m:\u001b[0m\u001b[0;34m\u001b[0m\u001b[0;34m\u001b[0m\u001b[0m\n\u001b[1;32m   6125\u001b[0m             \u001b[0mframe\u001b[0m \u001b[0;34m=\u001b[0m \u001b[0mself\u001b[0m\u001b[0;34m\u001b[0m\u001b[0;34m\u001b[0m\u001b[0m\n",
      "\u001b[0;31mKeyError\u001b[0m: \"None of ['water_year'] are in the columns\""
     ]
    }
   ],
   "source": [
    "import matplotlib.pyplot as plt\n",
    "\n",
    "data = data.set_index('water_year')\n",
    "data.plot(y=['precipitation', 'discharge_spec', 'evaporation'], figsize=(12, 6))\n",
    "\n",
    "plt.title(f'Water balance for catchment {id}')\n",
    "plt.xlabel('Water year end')\n",
    "plt.ylabel('Depth (mm)')\n",
    "plt.legend(['Precipitation', 'Discharge', 'Evaporation'])\n",
    "plt.grid(True)\n",
    "plt.show()\n",
    "\n",
    "data = data.reset_index()"
   ]
  },
  {
   "cell_type": "markdown",
   "metadata": {},
   "source": [
    " ## Land cover impacts\n",
    "\n",
    " We will cover the drivers of evaporation in more detail later on the course. One question we may have is the role of different land cover types on the water balance. Let's investigate whether land use impacts evaporation by looking at some forested catchments:"
   ]
  },
  {
   "cell_type": "code",
   "execution_count": null,
   "metadata": {},
   "outputs": [],
   "source": [
    "metadata_lu = pd.read_csv(os.path.join(DATADIR, f'CAMELS_GB_landcover_attributes.csv'))\n"
   ]
  },
  {
   "cell_type": "markdown",
   "metadata": {},
   "source": [
    " Have a look at the columns in `metadata_lu` and consult Coxon et al. (2020). Which columns represent forest? Create a new column called `forest_perc` that combines the two types."
   ]
  },
  {
   "cell_type": "code",
   "execution_count": null,
   "metadata": {},
   "outputs": [],
   "source": [
    "raise NotImplementedError()\n"
   ]
  },
  {
   "cell_type": "markdown",
   "metadata": {},
   "source": [
    " Now identify catchments with more than 20% forest:"
   ]
  },
  {
   "cell_type": "code",
   "execution_count": null,
   "metadata": {},
   "outputs": [],
   "source": [
    "raise NotImplementedError()\n"
   ]
  },
  {
   "cell_type": "markdown",
   "metadata": {},
   "source": [
    " To compare the impact of vegetation on runoff generation, it would be useful to compute a summary measure for each catchment. One such measure, or signature, is the runoff ratio, defined as the proportion of precipitation that becomes runoff. We can calculate this as follows:"
   ]
  },
  {
   "cell_type": "code",
   "execution_count": null,
   "metadata": {},
   "outputs": [],
   "source": [
    "data_sum = data.groupby('id')[['precipitation', 'discharge_vol']].sum()\n"
   ]
  },
  {
   "cell_type": "markdown",
   "metadata": {},
   "source": [
    " Now we can calculate the runoff ratio:"
   ]
  },
  {
   "cell_type": "code",
   "execution_count": null,
   "metadata": {},
   "outputs": [],
   "source": [
    "data_sum['runoff_ratio'] = data_sum['discharge_vol'] / data_sum['precipitation']\n"
   ]
  },
  {
   "cell_type": "markdown",
   "metadata": {},
   "source": [
    " ## Optional exercise\n",
    "\n",
    " Compute the runoff ratio for every catchment with greater than 20% forest (HINT: write a loop to perform the necessary steps). Using `statsmodels`, fit a linear regression model to the data to test the hypothesis that runoff ratio is related to the forest extent."
   ]
  }
 ],
 "metadata": {
  "kernelspec": {
   "display_name": "global-hydrology-book",
   "language": "python",
   "name": "python3"
  },
  "language_info": {
   "codemirror_mode": {
    "name": "ipython",
    "version": 3
   },
   "file_extension": ".py",
   "mimetype": "text/x-python",
   "name": "python",
   "nbconvert_exporter": "python",
   "pygments_lexer": "ipython3",
   "version": "3.12.4"
  }
 },
 "nbformat": 4,
 "nbformat_minor": 2
}
